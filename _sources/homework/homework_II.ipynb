{
 "cells": [
  {
   "cell_type": "markdown",
   "metadata": {},
   "source": [
    "### Homework 2: Introduction to `numpy` and `pandas`"
   ]
  },
  {
   "cell_type": "markdown",
   "metadata": {},
   "source": [
    "##### Problem 1: Import the libraries\n",
    "\n",
    "Below, import and alias both `numpy` and `pandas` using standard alias's as we used in class."
   ]
  },
  {
   "cell_type": "code",
   "execution_count": null,
   "metadata": {},
   "outputs": [],
   "source": []
  },
  {
   "cell_type": "markdown",
   "metadata": {},
   "source": [
    "##### Problem 2: Create an array\n",
    "\n",
    "Below, create a 1-Dimensional array of integer values from 0 through 100."
   ]
  },
  {
   "cell_type": "code",
   "execution_count": null,
   "metadata": {},
   "outputs": [],
   "source": []
  },
  {
   "cell_type": "markdown",
   "metadata": {},
   "source": [
    "##### Problem 3: Reshape an array\n",
    "\n",
    "Reshape the array from problem 2 so that it has 100 rows and 1 column."
   ]
  },
  {
   "cell_type": "code",
   "execution_count": null,
   "metadata": {},
   "outputs": [],
   "source": []
  },
  {
   "cell_type": "markdown",
   "metadata": {},
   "source": [
    "##### Problem 4: Create an array of 4\n",
    "\n",
    "Below, create a 10 x 10 array filled with the value 4.  "
   ]
  },
  {
   "cell_type": "code",
   "execution_count": null,
   "metadata": {},
   "outputs": [],
   "source": []
  },
  {
   "cell_type": "markdown",
   "metadata": {},
   "source": [
    "##### Problem 5: Create a random array\n",
    "\n",
    "Below, create a 4 x 8 array of values drawn from a standard normal distribution (mean = 0 and standard deviation = 1). "
   ]
  },
  {
   "cell_type": "code",
   "execution_count": null,
   "metadata": {},
   "outputs": [],
   "source": []
  },
  {
   "cell_type": "markdown",
   "metadata": {},
   "source": [
    "##### Problem 6: Slicing an array\n",
    "\n",
    "Below, create a 5 x 7 array of random values from a standard normal distribution and assign to a variable named `ans6a`.  Then, select the last two columns and last two rows of the array and assign to `ans6b`."
   ]
  },
  {
   "cell_type": "code",
   "execution_count": null,
   "metadata": {},
   "outputs": [],
   "source": []
  },
  {
   "cell_type": "markdown",
   "metadata": {},
   "source": [
    "##### Problem 7: Mathematical Operations on an array\n",
    "\n",
    "Below, create a 10 x 5 array of random values from a binomial distribution where `n = 1000` and `p = .3`.  Then, use `numpy` functions to find the following summary statistics for *each column*:\n",
    "\n",
    "- mean\n",
    "- variance\n",
    "- standard deviation\n"
   ]
  },
  {
   "cell_type": "code",
   "execution_count": null,
   "metadata": {},
   "outputs": [],
   "source": []
  },
  {
   "cell_type": "markdown",
   "metadata": {},
   "source": [
    "#### Problem 8: Using arrays in functions\n",
    "\n",
    "Below, define a function `f` that takes a numeric input and outputs the square of that input.\n",
    "\n",
    "Then, create a list named `x_list` and an array named `x_array` containing integers 1 - 20.  Finally, compare and discuss the difference between evaluating these functions at all integers -- `f(x_list)` and `f(x_array)`.  "
   ]
  },
  {
   "cell_type": "code",
   "execution_count": null,
   "metadata": {},
   "outputs": [],
   "source": []
  },
  {
   "cell_type": "markdown",
   "metadata": {},
   "source": [
    "##### Problem 9: Filtering an array\n",
    "\n",
    "Below, use the array `ex9` and describe what happens with the comparison:\n",
    "\n",
    "```\n",
    "ex9 > 10\n",
    "```\n",
    "\n",
    "What type of objects are returned?"
   ]
  },
  {
   "cell_type": "code",
   "execution_count": 30,
   "metadata": {},
   "outputs": [],
   "source": [
    "ex9 = np.random.randint(low = 8, high = 13, size = 100)"
   ]
  },
  {
   "cell_type": "code",
   "execution_count": 31,
   "metadata": {},
   "outputs": [
    {
     "data": {
      "text/plain": [
       "array([False, False,  True, False, False, False, False, False,  True,\n",
       "       False,  True, False, False, False,  True, False, False,  True,\n",
       "       False,  True,  True, False, False, False, False,  True, False,\n",
       "       False, False,  True, False, False, False,  True, False,  True,\n",
       "       False, False,  True, False,  True,  True, False, False, False,\n",
       "        True, False, False, False,  True,  True,  True, False,  True,\n",
       "       False,  True, False, False, False,  True, False, False,  True,\n",
       "       False,  True, False, False, False, False, False,  True, False,\n",
       "       False,  True, False, False,  True,  True, False, False, False,\n",
       "       False, False,  True,  True,  True, False, False, False, False,\n",
       "       False, False, False,  True, False, False,  True,  True, False,\n",
       "       False])"
      ]
     },
     "execution_count": 31,
     "metadata": {},
     "output_type": "execute_result"
    }
   ],
   "source": [
    "ex9 > 10"
   ]
  },
  {
   "cell_type": "markdown",
   "metadata": {},
   "source": [
    "##### Problem 10: Filtering an array II\n",
    "\n",
    "Now, pass the results of the comparison to the array with\n",
    "\n",
    "```\n",
    "ex9[ex9 > 10]\n",
    "```\n",
    "\n",
    "Explain what happened."
   ]
  },
  {
   "cell_type": "code",
   "execution_count": null,
   "metadata": {},
   "outputs": [],
   "source": []
  },
  {
   "cell_type": "markdown",
   "metadata": {},
   "source": [
    "##### Problem 11: Using `np.linalg`\n",
    "\n",
    "Below, using the function `np.linalg.norm` to compute the distance between two vectors -- `v1` and `v2`.\n",
    "\n",
    "Do this by looking for the norm of the vectors difference."
   ]
  },
  {
   "cell_type": "code",
   "execution_count": 14,
   "metadata": {},
   "outputs": [],
   "source": [
    "v1 = np.random.normal(size = 100)\n",
    "v2 = np.random.normal(loc = 5, size = 100)"
   ]
  },
  {
   "cell_type": "code",
   "execution_count": null,
   "metadata": {},
   "outputs": [],
   "source": []
  },
  {
   "cell_type": "markdown",
   "metadata": {},
   "source": [
    "##### Problem 12: Mutliplying matrices\n",
    "\n",
    "Below, given matrices `m1` and `m2`, perform matrix muliplication using both the `np.matmul` function and the `@` shorthand."
   ]
  },
  {
   "cell_type": "code",
   "execution_count": 19,
   "metadata": {},
   "outputs": [],
   "source": [
    "m1 = np.random.normal(size = (4, 3))\n",
    "m2 = np.random.normal(size = (3, 4))"
   ]
  },
  {
   "cell_type": "code",
   "execution_count": null,
   "metadata": {},
   "outputs": [],
   "source": []
  },
  {
   "cell_type": "markdown",
   "metadata": {},
   "source": [
    "##### Problem 13: Mean Squared Error\n",
    "\n",
    "In predictive algorithms where the target is a continuous number we may use the **mean squared error** to examine the difference between true and predicted values in the model.\n",
    "\n",
    "Below, you are given two arrays to represent a models predictions `y_pred` and true values from data `y_true`.  Use these to write a function called `mean_squared_error` that takes in two arrays and returns the mean squared error or:\n",
    "\n",
    "$$\\frac{1}{n} \\sum_{i = 1}^n (\\hat{y_i} - y_i)^2$$\n",
    "\n",
    "where $\\hat{y_i}$ is the prediction of the $i^{th}$ value and $y_i$ is the true value."
   ]
  },
  {
   "cell_type": "code",
   "execution_count": 20,
   "metadata": {},
   "outputs": [],
   "source": [
    "x = np.linspace(0, 10, 100)\n",
    "y_true = 3*x + 4 + np.random.normal(size = 100)\n",
    "y_pred = 3.2*x + 4.1"
   ]
  },
  {
   "cell_type": "code",
   "execution_count": 21,
   "metadata": {},
   "outputs": [],
   "source": [
    "def mean_squared_error(y_true, y_pred):\n",
    "    pass"
   ]
  },
  {
   "cell_type": "code",
   "execution_count": null,
   "metadata": {},
   "outputs": [],
   "source": []
  },
  {
   "cell_type": "markdown",
   "metadata": {},
   "source": [
    "### Pandas\n",
    "\n",
    "The problems below involve using the `pandas` library."
   ]
  },
  {
   "cell_type": "markdown",
   "metadata": {},
   "source": [
    "##### Problem 14: Make a `DataFrame` from `dict`\n",
    "\n",
    "Use the dictionary `ex_14_data` to build a pandas DataFrame named `dog_df` below."
   ]
  },
  {
   "cell_type": "code",
   "execution_count": 22,
   "metadata": {},
   "outputs": [],
   "source": [
    "ex_14_data = {'name': ['Lenny', 'Hardy', 'Oden', 'Hennessy', 'Cliff'],\n",
    "             'breed': ['wildman', 'lab', 'lab', 'pitbull', 'boxer'], \n",
    "             'weight': [40, 70, 65, 73, 46], \n",
    "             'age': [3, 5, 13, 15, 4]}"
   ]
  },
  {
   "cell_type": "code",
   "execution_count": null,
   "metadata": {},
   "outputs": [],
   "source": []
  },
  {
   "cell_type": "markdown",
   "metadata": {},
   "source": [
    "##### Problem 15: Columns of a DataFrame\n",
    "\n",
    "Below, extract the columns from the DataFrame `dog_df`."
   ]
  },
  {
   "cell_type": "code",
   "execution_count": null,
   "metadata": {},
   "outputs": [],
   "source": []
  },
  {
   "cell_type": "markdown",
   "metadata": {},
   "source": [
    "##### Problem 16: Basic Information \n",
    "\n",
    "Use the `.info()` method to display basic information about `dog_df`."
   ]
  },
  {
   "cell_type": "code",
   "execution_count": null,
   "metadata": {},
   "outputs": [],
   "source": []
  },
  {
   "cell_type": "markdown",
   "metadata": {},
   "source": [
    "#### A Second Dataset\n",
    "\n",
    "Below, we load a built in dataset from the `seaborn` library.  We will use this library later in the course for data visualization, but for now just note that the object `titanic_df` is a DataFrame and we can just use the `.load_dataset` function to access it."
   ]
  },
  {
   "cell_type": "code",
   "execution_count": 26,
   "metadata": {},
   "outputs": [],
   "source": [
    "import seaborn as sns"
   ]
  },
  {
   "cell_type": "code",
   "execution_count": 27,
   "metadata": {},
   "outputs": [],
   "source": [
    "titanic_df = sns.load_dataset('titanic')"
   ]
  },
  {
   "cell_type": "markdown",
   "metadata": {},
   "source": [
    "##### Problem 17: Numerical Summaries\n",
    "\n",
    "Use the `.describe` method to display numerical summaries for the columns in `titanic_df`."
   ]
  },
  {
   "cell_type": "code",
   "execution_count": null,
   "metadata": {},
   "outputs": [],
   "source": []
  },
  {
   "cell_type": "markdown",
   "metadata": {},
   "source": [
    "##### Problem 17: Categorical Summaries\n",
    "\n",
    "Use the `.describe()` method to display summaries of *only the categorical columns*.  (**Hint**: what does the `include` argument do?)"
   ]
  },
  {
   "cell_type": "code",
   "execution_count": null,
   "metadata": {},
   "outputs": [],
   "source": []
  },
  {
   "cell_type": "markdown",
   "metadata": {},
   "source": [
    "##### Problem 18: Shape of the data\n",
    "\n",
    "How many rows and columns are in the DataFrame `titanic_df`?"
   ]
  },
  {
   "cell_type": "code",
   "execution_count": null,
   "metadata": {},
   "outputs": [],
   "source": []
  },
  {
   "cell_type": "markdown",
   "metadata": {},
   "source": [
    "##### Problem 19: Summaries\n",
    "\n",
    "What is the mean and standard deviation of the `age` column?"
   ]
  },
  {
   "cell_type": "code",
   "execution_count": null,
   "metadata": {},
   "outputs": [],
   "source": []
  },
  {
   "cell_type": "markdown",
   "metadata": {},
   "source": [
    "##### Problem 20: Summaries by sex\n",
    "\n",
    "Now, determine the mean and standard deviation for the male passengers `age`."
   ]
  },
  {
   "cell_type": "code",
   "execution_count": null,
   "metadata": {},
   "outputs": [],
   "source": []
  },
  {
   "cell_type": "markdown",
   "metadata": {},
   "source": [
    "##### Problem 21: Young people in first class\n",
    "\n",
    "Subset the data to passengers under the age of 18.  How many of these passengers traveled first class?"
   ]
  },
  {
   "cell_type": "code",
   "execution_count": null,
   "metadata": {},
   "outputs": [],
   "source": []
  },
  {
   "cell_type": "markdown",
   "metadata": {},
   "source": [
    "##### Problem 22: Older people embarked\n",
    "\n",
    "Subset the data `titanic_df` to people over the age of 70.  What was the most common point of departure for them (`embark_town`)?"
   ]
  },
  {
   "cell_type": "code",
   "execution_count": null,
   "metadata": {},
   "outputs": [],
   "source": []
  },
  {
   "cell_type": "markdown",
   "metadata": {},
   "source": [
    "##### Problem 23: Survival Rate\n",
    "\n",
    "Use the `survived` column to compute the survival rate for all passengers."
   ]
  },
  {
   "cell_type": "code",
   "execution_count": null,
   "metadata": {},
   "outputs": [],
   "source": []
  },
  {
   "cell_type": "markdown",
   "metadata": {},
   "source": [
    "##### Problem 24: Renaming Columns\n",
    "\n",
    "Rename the column `sibsp` to `num_siblings`.  "
   ]
  },
  {
   "cell_type": "code",
   "execution_count": null,
   "metadata": {},
   "outputs": [],
   "source": []
  },
  {
   "cell_type": "markdown",
   "metadata": {},
   "source": [
    "##### Problem 25: Dropping Columns\n",
    "\n",
    "Drop the column `adult_male` from `titanic_df`.  "
   ]
  },
  {
   "cell_type": "code",
   "execution_count": null,
   "metadata": {},
   "outputs": [],
   "source": []
  },
  {
   "cell_type": "markdown",
   "metadata": {},
   "source": [
    "#### Code Wars\n",
    "\n",
    "It is important to continue practicing the fundamentals as we move into using more and more libraries.  You will always need to fall back on the basics, so we want you to spend time each week working on some coding challenges.  Again, head over to [code wars]() and find two practice problems that you are able to solve. Clearly state the problem, your solution, and an alternative solution that you didn't think of but was displayed upon cracking your challenge below."
   ]
  },
  {
   "cell_type": "code",
   "execution_count": null,
   "metadata": {},
   "outputs": [],
   "source": []
  },
  {
   "cell_type": "code",
   "execution_count": null,
   "metadata": {},
   "outputs": [],
   "source": []
  },
  {
   "cell_type": "code",
   "execution_count": null,
   "metadata": {},
   "outputs": [],
   "source": []
  },
  {
   "cell_type": "code",
   "execution_count": null,
   "metadata": {},
   "outputs": [],
   "source": []
  },
  {
   "cell_type": "code",
   "execution_count": null,
   "metadata": {},
   "outputs": [],
   "source": []
  },
  {
   "cell_type": "code",
   "execution_count": null,
   "metadata": {},
   "outputs": [],
   "source": []
  },
  {
   "cell_type": "code",
   "execution_count": null,
   "metadata": {},
   "outputs": [],
   "source": []
  }
 ],
 "metadata": {
  "kernelspec": {
   "display_name": "Python 3",
   "language": "python",
   "name": "python3"
  },
  "language_info": {
   "codemirror_mode": {
    "name": "ipython",
    "version": 3
   },
   "file_extension": ".py",
   "mimetype": "text/x-python",
   "name": "python",
   "nbconvert_exporter": "python",
   "pygments_lexer": "ipython3",
   "version": "3.8.3"
  }
 },
 "nbformat": 4,
 "nbformat_minor": 4
}
